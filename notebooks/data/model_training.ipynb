{
 "cells": [
  {
   "cell_type": "code",
   "execution_count": 1,
   "id": "20b8adee",
   "metadata": {},
   "outputs": [],
   "source": [
    "import numpy as np\n",
    "import pandas as pd\n",
    "import matplotlib.pyplot as plt \n",
    "import seaborn as sns\n",
    "# Modelling\n",
    "from sklearn.metrics import accuracy_score, f1_score\n",
    "from sklearn.neighbors import KNeighborsClassifier\n",
    "from sklearn.tree import DecisionTreeClassifier\n",
    "from sklearn.ensemble import RandomForestClassifier,AdaBoostClassifier\n",
    "\n",
    "from sklearn.linear_model import LogisticRegression\n",
    "from sklearn.preprocessing import StandardScaler, LabelEncoder, OneHotEncoder, OrdinalEncoder\n",
    "from sklearn.preprocessing import MinMaxScaler\n",
    "from sklearn.model_selection import train_test_split\n",
    "\n",
    "from catboost import CatBoostClassifier\n",
    "from xgboost import XGBClassifier\n",
    "\n",
    "from sklearn.pipeline import Pipeline\n",
    "from sklearn.compose import ColumnTransformer\n",
    "from sklearn.impute import SimpleImputer\n",
    "\n",
    "import warnings"
   ]
  },
  {
   "cell_type": "code",
   "execution_count": 2,
   "id": "27c7aa2f",
   "metadata": {},
   "outputs": [],
   "source": [
    "df = pd.read_csv(r'd:\\2025 lessons\\AI+ML course amaliyot\\Datasets\\Food_Preference.csv')"
   ]
  },
  {
   "cell_type": "code",
   "execution_count": 3,
   "id": "29bdad06",
   "metadata": {},
   "outputs": [
    {
     "data": {
      "text/plain": [
       "Index(['Gender', 'Nationality', 'Food', 'Juice'], dtype='object')"
      ]
     },
     "execution_count": 3,
     "metadata": {},
     "output_type": "execute_result"
    }
   ],
   "source": [
    "df = df.drop(columns=['Timestamp', 'Participant_ID'])\n",
    "y = df['Dessert']\n",
    "X = df.drop(columns=['Dessert'], axis=1)\n",
    "num_cols = X.select_dtypes(include='number').columns\n",
    "cat_cols = X.select_dtypes(exclude='number').columns\n",
    "\n",
    "cat_cols"
   ]
  },
  {
   "cell_type": "code",
   "execution_count": null,
   "id": "72453249",
   "metadata": {},
   "outputs": [],
   "source": []
  },
  {
   "cell_type": "code",
   "execution_count": 4,
   "id": "6f1b9617",
   "metadata": {},
   "outputs": [
    {
     "name": "stdout",
     "output_type": "stream",
     "text": [
      "<class 'pandas.core.frame.DataFrame'>\n",
      "RangeIndex: 288 entries, 0 to 287\n",
      "Data columns (total 5 columns):\n",
      " #   Column       Non-Null Count  Dtype  \n",
      "---  ------       --------------  -----  \n",
      " 0   Gender       288 non-null    int64  \n",
      " 1   Nationality  288 non-null    float64\n",
      " 2   Age          288 non-null    int64  \n",
      " 3   Food         288 non-null    int64  \n",
      " 4   Juice        288 non-null    int64  \n",
      "dtypes: float64(1), int64(4)\n",
      "memory usage: 11.4 KB\n"
     ]
    }
   ],
   "source": [
    "def category_encoding(df, cat_cols):\n",
    "    for col in cat_cols:\n",
    "       \n",
    "        if df[col].nunique() > 3:\n",
    "            df[[col]] = OrdinalEncoder().fit_transform(df[[col]])\n",
    "        else:\n",
    "           df[col] = LabelEncoder().fit_transform(df[col])\n",
    "    \n",
    "    return df\n",
    "category_encoding(df=X, cat_cols=cat_cols)\n",
    "X.info()\n",
    "\n"
   ]
  },
  {
   "cell_type": "code",
   "execution_count": 5,
   "id": "c8dcf4cd",
   "metadata": {},
   "outputs": [],
   "source": [
    "X_train, X_test, y_train, y_test = train_test_split(X,y,test_size=0.2,random_state=42)"
   ]
  },
  {
   "cell_type": "code",
   "execution_count": null,
   "id": "4b111204",
   "metadata": {},
   "outputs": [],
   "source": []
  },
  {
   "cell_type": "code",
   "execution_count": null,
   "id": "4c683c77",
   "metadata": {},
   "outputs": [],
   "source": [
    "models = {\n",
    "    \"K-Neighbors Regressor\": KNeighborsClassifier(),\n",
    "    \"Decision Tree\": DecisionTreeClassifier(),\n",
    "    \"Random Forest Regressor\": RandomForestClassifier(),\n",
    "    \"XGBRegressor\": XGBClassifier(), \n",
    "    \"CatBoosting Regressor\": CatBoostClassifier(verbose=False),\n",
    "    \"AdaBoost Regressor\": AdaBoostClassifier()\n",
    "}\n",
    "\n"
   ]
  }
 ],
 "metadata": {
  "kernelspec": {
   "display_name": "base",
   "language": "python",
   "name": "python3"
  },
  "language_info": {
   "codemirror_mode": {
    "name": "ipython",
    "version": 3
   },
   "file_extension": ".py",
   "mimetype": "text/x-python",
   "name": "python",
   "nbconvert_exporter": "python",
   "pygments_lexer": "ipython3",
   "version": "3.13.2"
  }
 },
 "nbformat": 4,
 "nbformat_minor": 5
}
