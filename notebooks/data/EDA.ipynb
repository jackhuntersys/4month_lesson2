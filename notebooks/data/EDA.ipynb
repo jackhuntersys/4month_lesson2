{
 "cells": [
  {
   "cell_type": "code",
   "execution_count": 2,
   "id": "97a75d8a",
   "metadata": {},
   "outputs": [],
   "source": [
    "import numpy as np\n",
    "import pandas as pd\n",
    "import seaborn as sns\n",
    "import matplotlib.pyplot as plt\n",
    "%matplotlib inline\n",
    "import warnings\n",
    "warnings.filterwarnings('ignore')"
   ]
  },
  {
   "cell_type": "code",
   "execution_count": 3,
   "id": "26e1fff4",
   "metadata": {},
   "outputs": [],
   "source": [
    "df = pd.read_csv(r'd:\\2025 lessons\\AI+ML course amaliyot\\Datasets\\Food_Preference.csv')"
   ]
  },
  {
   "cell_type": "code",
   "execution_count": null,
   "id": "61baebb4",
   "metadata": {},
   "outputs": [],
   "source": []
  }
 ],
 "metadata": {
  "kernelspec": {
   "display_name": "base",
   "language": "python",
   "name": "python3"
  },
  "language_info": {
   "codemirror_mode": {
    "name": "ipython",
    "version": 3
   },
   "file_extension": ".py",
   "mimetype": "text/x-python",
   "name": "python",
   "nbconvert_exporter": "python",
   "pygments_lexer": "ipython3",
   "version": "3.13.2"
  }
 },
 "nbformat": 4,
 "nbformat_minor": 5
}
